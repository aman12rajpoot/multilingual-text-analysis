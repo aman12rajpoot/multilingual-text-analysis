{
 "cells": [
  {
   "cell_type": "code",
   "execution_count": 1,
   "id": "860666f6-56fc-4226-8853-0153cedbfa34",
   "metadata": {},
   "outputs": [
    {
     "name": "stdout",
     "output_type": "stream",
     "text": [
      "Requirement already satisfied: requests in /opt/anaconda3/lib/python3.12/site-packages (2.32.3)\n",
      "Requirement already satisfied: beautifulsoup4 in /opt/anaconda3/lib/python3.12/site-packages (4.12.3)\n",
      "Requirement already satisfied: langdetect in /opt/anaconda3/lib/python3.12/site-packages (1.0.9)\n",
      "Requirement already satisfied: transformers in /opt/anaconda3/lib/python3.12/site-packages (4.52.4)\n",
      "Requirement already satisfied: googletrans==4.0.0-rc1 in /opt/anaconda3/lib/python3.12/site-packages (4.0.0rc1)\n",
      "Requirement already satisfied: httpx==0.13.3 in /opt/anaconda3/lib/python3.12/site-packages (from googletrans==4.0.0-rc1) (0.13.3)\n",
      "Requirement already satisfied: certifi in /opt/anaconda3/lib/python3.12/site-packages (from httpx==0.13.3->googletrans==4.0.0-rc1) (2024.12.14)\n",
      "Requirement already satisfied: hstspreload in /opt/anaconda3/lib/python3.12/site-packages (from httpx==0.13.3->googletrans==4.0.0-rc1) (2025.1.1)\n",
      "Requirement already satisfied: sniffio in /opt/anaconda3/lib/python3.12/site-packages (from httpx==0.13.3->googletrans==4.0.0-rc1) (1.3.0)\n",
      "Requirement already satisfied: chardet==3.* in /opt/anaconda3/lib/python3.12/site-packages (from httpx==0.13.3->googletrans==4.0.0-rc1) (3.0.4)\n",
      "Requirement already satisfied: idna==2.* in /opt/anaconda3/lib/python3.12/site-packages (from httpx==0.13.3->googletrans==4.0.0-rc1) (2.10)\n",
      "Requirement already satisfied: rfc3986<2,>=1.3 in /opt/anaconda3/lib/python3.12/site-packages (from httpx==0.13.3->googletrans==4.0.0-rc1) (1.5.0)\n",
      "Requirement already satisfied: httpcore==0.9.* in /opt/anaconda3/lib/python3.12/site-packages (from httpx==0.13.3->googletrans==4.0.0-rc1) (0.9.1)\n",
      "Requirement already satisfied: h11<0.10,>=0.8 in /opt/anaconda3/lib/python3.12/site-packages (from httpcore==0.9.*->httpx==0.13.3->googletrans==4.0.0-rc1) (0.9.0)\n",
      "Requirement already satisfied: h2==3.* in /opt/anaconda3/lib/python3.12/site-packages (from httpcore==0.9.*->httpx==0.13.3->googletrans==4.0.0-rc1) (3.2.0)\n",
      "Requirement already satisfied: hyperframe<6,>=5.2.0 in /opt/anaconda3/lib/python3.12/site-packages (from h2==3.*->httpcore==0.9.*->httpx==0.13.3->googletrans==4.0.0-rc1) (5.2.0)\n",
      "Requirement already satisfied: hpack<4,>=3.0 in /opt/anaconda3/lib/python3.12/site-packages (from h2==3.*->httpcore==0.9.*->httpx==0.13.3->googletrans==4.0.0-rc1) (3.0.0)\n",
      "Requirement already satisfied: charset-normalizer<4,>=2 in /opt/anaconda3/lib/python3.12/site-packages (from requests) (3.3.2)\n",
      "Requirement already satisfied: urllib3<3,>=1.21.1 in /opt/anaconda3/lib/python3.12/site-packages (from requests) (2.2.3)\n",
      "Requirement already satisfied: soupsieve>1.2 in /opt/anaconda3/lib/python3.12/site-packages (from beautifulsoup4) (2.5)\n",
      "Requirement already satisfied: six in /opt/anaconda3/lib/python3.12/site-packages (from langdetect) (1.16.0)\n",
      "Requirement already satisfied: filelock in /opt/anaconda3/lib/python3.12/site-packages (from transformers) (3.13.1)\n",
      "Requirement already satisfied: huggingface-hub<1.0,>=0.30.0 in /opt/anaconda3/lib/python3.12/site-packages (from transformers) (0.32.4)\n",
      "Requirement already satisfied: numpy>=1.17 in /opt/anaconda3/lib/python3.12/site-packages (from transformers) (1.26.4)\n",
      "Requirement already satisfied: packaging>=20.0 in /opt/anaconda3/lib/python3.12/site-packages (from transformers) (24.1)\n",
      "Requirement already satisfied: pyyaml>=5.1 in /opt/anaconda3/lib/python3.12/site-packages (from transformers) (6.0.1)\n",
      "Requirement already satisfied: regex!=2019.12.17 in /opt/anaconda3/lib/python3.12/site-packages (from transformers) (2024.9.11)\n",
      "Requirement already satisfied: tokenizers<0.22,>=0.21 in /opt/anaconda3/lib/python3.12/site-packages (from transformers) (0.21.1)\n",
      "Requirement already satisfied: safetensors>=0.4.3 in /opt/anaconda3/lib/python3.12/site-packages (from transformers) (0.5.3)\n",
      "Requirement already satisfied: tqdm>=4.27 in /opt/anaconda3/lib/python3.12/site-packages (from transformers) (4.66.5)\n",
      "Requirement already satisfied: fsspec>=2023.5.0 in /opt/anaconda3/lib/python3.12/site-packages (from huggingface-hub<1.0,>=0.30.0->transformers) (2024.6.1)\n",
      "Requirement already satisfied: typing-extensions>=3.7.4.3 in /opt/anaconda3/lib/python3.12/site-packages (from huggingface-hub<1.0,>=0.30.0->transformers) (4.11.0)\n",
      "Requirement already satisfied: hf-xet<2.0.0,>=1.1.2 in /opt/anaconda3/lib/python3.12/site-packages (from huggingface-hub<1.0,>=0.30.0->transformers) (1.1.3)\n"
     ]
    }
   ],
   "source": [
    "\n",
    "!pip install requests beautifulsoup4 langdetect transformers googletrans==4.0.0-rc1\n"
   ]
  },
  {
   "cell_type": "markdown",
   "id": "cbc6d83e-a76e-458c-b9f2-650dcf808bbb",
   "metadata": {},
   "source": [
    "# Import the required library"
   ]
  },
  {
   "cell_type": "code",
   "execution_count": 2,
   "id": "87a6a95b-7254-49e0-a161-c4c6f1868fdd",
   "metadata": {},
   "outputs": [],
   "source": [
    "import requests\n",
    "from bs4 import BeautifulSoup\n",
    "from langdetect import detect\n",
    "from googletrans import Translator\n",
    "from transformers import pipeline\n"
   ]
  },
  {
   "cell_type": "code",
   "execution_count": 3,
   "id": "8dc238e2-6607-4a08-997f-ac926e681c1f",
   "metadata": {},
   "outputs": [
    {
     "name": "stderr",
     "output_type": "stream",
     "text": [
      "Device set to use mps:0\n"
     ]
    }
   ],
   "source": [
    "summarizer = pipeline(\"summarization\", model=\"facebook/mbart-large-cc25\")\n",
    "results = []"
   ]
  },
  {
   "cell_type": "markdown",
   "id": "9b66a204-44ce-4f03-ab7c-76af8185d1a1",
   "metadata": {},
   "source": [
    "# Create a function for web scrapping the articles from multiple sites"
   ]
  },
  {
   "cell_type": "code",
   "execution_count": 4,
   "id": "eb7c42e2-bd4c-4fa5-ad09-81579804df8a",
   "metadata": {},
   "outputs": [],
   "source": [
    "def get_news_articles(base_url, article_path_substring, full_prefix, limit=2):\n",
    "    res = requests.get(base_url)\n",
    "    soup = BeautifulSoup(res.text, 'html.parser')\n",
    "    articles = []\n",
    "    for link in soup.find_all('a', href=True):\n",
    "        href = link['href']\n",
    "        if article_path_substring in href:\n",
    "            if not href.startswith('http'):\n",
    "                href = full_prefix + href\n",
    "            articles.append(href)\n",
    "    return list(set(articles))[:limit]"
   ]
  },
  {
   "cell_type": "markdown",
   "id": "5e83a281-4573-4c46-8193-c4e19624ae9d",
   "metadata": {},
   "source": [
    "# Function to extract text from article"
   ]
  },
  {
   "cell_type": "code",
   "execution_count": 5,
   "id": "8988fc1f-0bc0-45f9-85bd-d0b681f137bf",
   "metadata": {},
   "outputs": [],
   "source": [
    "def extract_article_text(url):\n",
    "    res = requests.get(url)\n",
    "    soup = BeautifulSoup(res.text, 'html.parser')\n",
    "    main = soup.find('main') or soup\n",
    "    paragraphs = main.find_all('p')\n",
    "    content = ' '.join([p.text for p in paragraphs])\n",
    "    if len(content.split()) < 50:\n",
    "        raise ValueError(\"Article content too short.\")\n",
    "    return content"
   ]
  },
  {
   "cell_type": "markdown",
   "id": "3fea64ab-d063-46c9-a0fb-ac1f85d5762b",
   "metadata": {},
   "source": [
    "# Detect language using langdetect"
   ]
  },
  {
   "cell_type": "code",
   "execution_count": 6,
   "id": "0b16d14c-cfb4-4ec9-990a-0a0b50166a65",
   "metadata": {},
   "outputs": [
    {
     "name": "stdout",
     "output_type": "stream",
     "text": [
      "Requirement already satisfied: langdetect in /opt/anaconda3/envs/ML/lib/python3.12/site-packages (1.0.9)\n",
      "Requirement already satisfied: six in /opt/anaconda3/envs/ML/lib/python3.12/site-packages (from langdetect) (1.17.0)\n"
     ]
    }
   ],
   "source": [
    "import sys\n",
    "!{sys.executable} -m pip install langdetect"
   ]
  },
  {
   "cell_type": "code",
   "execution_count": 7,
   "id": "b341b3fd-1269-43b5-9618-b7b0d0a1bdc9",
   "metadata": {},
   "outputs": [],
   "source": [
    "def detect_language(text):\n",
    "    try:\n",
    "        return detect(text)\n",
    "    except:\n",
    "        return \"unknown\"\n"
   ]
  },
  {
   "cell_type": "markdown",
   "id": "f9ea0595-1294-4de2-ab55-34a29c0d8143",
   "metadata": {},
   "source": [
    "# Translate to English using google translate"
   ]
  },
  {
   "cell_type": "code",
   "execution_count": 8,
   "id": "c5da16fa-2c8e-456b-8ec7-1b284a8e3184",
   "metadata": {},
   "outputs": [],
   "source": [
    "def translate_to_english(text):\n",
    "    translator = Translator()\n",
    "    try:\n",
    "        translated = translator.translate(text, dest='en')\n",
    "        return translated.text if translated and translated.text else \"\"\n",
    "    except Exception as e:\n",
    "        print(\"Translation failed:\", e)\n",
    "        return \"\""
   ]
  },
  {
   "cell_type": "markdown",
   "id": "052c443c-7194-4dcb-a1dc-e407a0eca0ef",
   "metadata": {},
   "source": [
    "# Summarize using Hugging Face Transformers"
   ]
  },
  {
   "cell_type": "code",
   "execution_count": 9,
   "id": "df41f3a2-4f8b-4961-9eec-42b64231a678",
   "metadata": {},
   "outputs": [],
   "source": [
    "def summarize_text(text):\n",
    "    max_len = min(150, max(50, len(text.split()) // 2))\n",
    "    return summarizer(text, max_length=max_len, min_length=30, do_sample=False)[0]['summary_text']\n"
   ]
  },
  {
   "cell_type": "markdown",
   "id": "85a6967b-b8f7-4f2b-8318-496c30d2de7c",
   "metadata": {},
   "source": [
    "# Run for Multiple languages"
   ]
  },
  {
   "cell_type": "code",
   "execution_count": 10,
   "id": "dcc9fcfe-eda8-4889-9fdd-298eedac2eec",
   "metadata": {},
   "outputs": [
    {
     "name": "stdout",
     "output_type": "stream",
     "text": [
      "\n",
      "🌐 Language: Hindi\n",
      "\n",
      "🔗 URL: https://www.bbc.com/hindi/articles/cjrl472zz8eo\n",
      "🔤 Detected: hi\n",
      "Translation failed: the JSON object must be str, bytes or bytearray, not NoneType\n",
      "❌ Skipping due to empty translation.\n",
      "\n",
      "🔗 URL: https://www.bbc.com/hindi/articles/c4g8x33z6xlo\n",
      "🔤 Detected: hi\n",
      "📝 Summary:\n",
      " for more information about the discussion about the Sejil missile has intensified.After the discussion about the discussion about the invasion.\"\n",
      "\n",
      "🌐 Language: Arabic\n",
      "\n",
      "🔗 URL: https://www.bbc.com/arabic/articles/cn4gegejyj3o\n",
      "🔤 Detected: ar\n",
      "📝 Summary:\n",
      " for the first patients of course of course of the United Kingdom.Photo chest, but if you see these drugs are within these are not considered to be less than to be more than a lighter that to be more dangerous to be more dangerous to treating to disrupted to disrupted to treating to treat for a long term recovery, a period of life.\n",
      "\n",
      "🔗 URL: https://www.bbc.com/arabic/articles/cp8e9g7j975o\n",
      "🔤 Detected: ar\n",
      "Translation failed: the JSON object must be str, bytes or bytearray, not NoneType\n",
      "❌ Skipping due to empty translation.\n",
      "\n",
      "🌐 Language: Spanish\n",
      "\n",
      "🔗 URL: https://www.bbc.com/mundo/articles/cwyne84kmdxo\n",
      "🔤 Detected: es\n",
      "📝 Summary:\n",
      " you can also denounced the methods, which included armored, by the terror, by, by, by, by, by, by, by, by, by, by, by, by, by, by, by, by, by, by, terror, by, by, by, by, by, by, by, by, by by, terror in terror in terror in our streets to detainment, terror in our streets to protest against immigration measures ordered by the Donald Trump government.And remember that you can receive notifications in our app.Download the.Download the latest version\n",
      "\n",
      "🔗 URL: https://www.bbc.com/mundo/articles/cddz40zp92qo\n",
      "🔤 Detected: es\n",
      "Translation failed: the JSON object must be str, bytes or bytearray, not NoneType\n",
      "❌ Skipping due to empty translation.\n",
      "\n",
      "🌐 Language: Russian\n",
      "\n",
      "🔗 URL: https://www.bbc.com/russian/articles/cn8zdjp4vjjo\n",
      "🔤 Detected: ru\n",
      "Translation failed: the JSON object must be str, bytes or bytearray, not NoneType\n",
      "❌ Skipping due to empty translation.\n",
      "\n",
      "🔗 URL: https://www.bbc.com/russian/articles/c0k78gyd4jxo\n",
      "🔤 Detected: ru\n",
      "Translation failed: the JSON object must be str, bytes or bytearray, not NoneType\n",
      "❌ Skipping due to empty translation.\n",
      "\n",
      "🌐 Language: French\n",
      "\n",
      "🔗 URL: https://www.bbc.com/afrique/articles/cgmw74wmkdjo\n",
      "🔤 Detected: fr\n",
      "Translation failed: the JSON object must be str, bytes or bytearray, not NoneType\n",
      "❌ Skipping due to empty translation.\n",
      "\n",
      "🔗 URL: https://www.bbc.com/afrique/articles/cvgelw411j4o\n",
      "🔤 Detected: fr\n",
      "Translation failed: the JSON object must be str, bytes or bytearray, not NoneType\n",
      "❌ Skipping due to empty translation.\n",
      "\n",
      "🌐 Language: German\n",
      "\n",
      "🔗 URL: https://www.dw.com/de/asien/s-12326\n",
      "❌ Error: Article content too short.\n",
      "\n",
      "🔗 URL: https://www.dw.com/de/themen/s-9077\n",
      "🔤 Detected: de\n",
      "📝 Summary:\n",
      " the attacks attack war brings suffering and destruction, affects global stability and requires international reactions, affects, affects, affects, affects, affects, affects, affects and requires international reactions\n"
     ]
    }
   ],
   "source": [
    "news_sources = {\n",
    "    \"Hindi\":    (\"https://www.bbc.com/hindi\", \"/hindi/articles/\", \"https://www.bbc.com\"),\n",
    "    \"Arabic\":   (\"https://www.bbc.com/arabic\", \"/arabic/articles/\", \"https://www.bbc.com\"),\n",
    "    \"Spanish\":  (\"https://www.bbc.com/mundo\", \"/mundo/articles/\", \"https://www.bbc.com\"),\n",
    "    \"Russian\":  (\"https://www.bbc.com/russian\", \"/russian/articles/\", \"https://www.bbc.com\"),\n",
    "    \"French\":   (\"https://www.bbc.com/afrique\", \"/afrique/articles/\", \"https://www.bbc.com\"),\n",
    "    \"German\":   (\"https://www.dw.com/de/top-thema/s-9012\", \"/de/\", \"https://www.dw.com\")\n",
    "}\n",
    "\n",
    "for lang, (url, substring, prefix) in news_sources.items():\n",
    "    print(f\"\\nLanguage: {lang}\")\n",
    "    article_urls = get_news_articles(url, substring, prefix)\n",
    "    for a_url in article_urls:\n",
    "        print(f\"\\nURL: {a_url}\")\n",
    "        try:\n",
    "            text = extract_article_text(a_url)\n",
    "            detected = detect_language(text)\n",
    "            print(\"Detected:\", detected)\n",
    "            if detected != 'en':\n",
    "                text = translate_to_english(text)\n",
    "            if not text:\n",
    "                print(\"Skipping due to empty translation.\")\n",
    "                continue\n",
    "            summary = summarize_text(text)\n",
    "            print(\"Summary:\\n\", summary)\n",
    "            results.append({\n",
    "                \"source_language\": lang,\n",
    "                \"url\": a_url,\n",
    "                \"detected_language\": detected,\n",
    "                \"summary\": summary\n",
    "            })\n",
    "        except Exception as e:\n",
    "            print(\"Error:\", e)"
   ]
  },
  {
   "cell_type": "markdown",
   "id": "6caa5e31-9e62-4d24-9d8c-a730dff73017",
   "metadata": {},
   "source": [
    "# Store the summary in a csv file"
   ]
  },
  {
   "cell_type": "code",
   "execution_count": 12,
   "id": "1fe6eab0-0049-4c97-b9e6-7da102006b2a",
   "metadata": {},
   "outputs": [
    {
     "name": "stdout",
     "output_type": "stream",
     "text": [
      "✅ Results saved to multilingual_summaries.csv\n"
     ]
    }
   ],
   "source": [
    "import pandas as pd\n",
    "if results:\n",
    "    df = pd.DataFrame(results)\n",
    "    df.to_csv(\"multilingual_summaries.csv\", index=False)\n",
    "    print(\"✅ Results saved to multilingual_summaries.csv\")\n",
    "else:\n",
    "    print(\"⚠️ No results to save.\")"
   ]
  },
  {
   "cell_type": "code",
   "execution_count": 16,
   "id": "a2e28207-3383-43af-8db0-2bdb3519f501",
   "metadata": {},
   "outputs": [
    {
     "data": {
      "text/html": [
       "<div>\n",
       "<style scoped>\n",
       "    .dataframe tbody tr th:only-of-type {\n",
       "        vertical-align: middle;\n",
       "    }\n",
       "\n",
       "    .dataframe tbody tr th {\n",
       "        vertical-align: top;\n",
       "    }\n",
       "\n",
       "    .dataframe thead th {\n",
       "        text-align: right;\n",
       "    }\n",
       "</style>\n",
       "<table border=\"1\" class=\"dataframe\">\n",
       "  <thead>\n",
       "    <tr style=\"text-align: right;\">\n",
       "      <th></th>\n",
       "      <th>source_language</th>\n",
       "      <th>url</th>\n",
       "      <th>detected_language</th>\n",
       "      <th>summary</th>\n",
       "    </tr>\n",
       "  </thead>\n",
       "  <tbody>\n",
       "    <tr>\n",
       "      <th>0</th>\n",
       "      <td>Hindi</td>\n",
       "      <td>https://www.bbc.com/hindi/articles/c4g8x33z6xlo</td>\n",
       "      <td>hi</td>\n",
       "      <td>for more information about the discussion about the Sejil missile has intensified.After the discussion about the discussion about the invasion.\"</td>\n",
       "    </tr>\n",
       "    <tr>\n",
       "      <th>1</th>\n",
       "      <td>Arabic</td>\n",
       "      <td>https://www.bbc.com/arabic/articles/cn4gegejyj3o</td>\n",
       "      <td>ar</td>\n",
       "      <td>for the first patients of course of course of the United Kingdom.Photo chest, but if you see these drugs are within these are not considered to be less than to be more than a lighter that to be more dangerous to be more dangerous to treating to disrupted to disrupted to treating to treat for a long term recovery, a period of life.</td>\n",
       "    </tr>\n",
       "    <tr>\n",
       "      <th>2</th>\n",
       "      <td>Spanish</td>\n",
       "      <td>https://www.bbc.com/mundo/articles/cwyne84kmdxo</td>\n",
       "      <td>es</td>\n",
       "      <td>you can also denounced the methods, which included armored, by the terror, by, by, by, by, by, by, by, by, by, by, by, by, by, by, by, by, by, by, terror, by, by, by, by, by, by, by, by, by by, terror in terror in terror in our streets to detainment, terror in our streets to protest against immigration measures ordered by the Donald Trump government.And remember that you can receive notifications in our app.Download the.Download the latest version</td>\n",
       "    </tr>\n",
       "    <tr>\n",
       "      <th>3</th>\n",
       "      <td>German</td>\n",
       "      <td>https://www.dw.com/de/themen/s-9077</td>\n",
       "      <td>de</td>\n",
       "      <td>the attacks attack war brings suffering and destruction, affects global stability and requires international reactions, affects, affects, affects, affects, affects, affects, affects and requires international reactions</td>\n",
       "    </tr>\n",
       "  </tbody>\n",
       "</table>\n",
       "</div>"
      ],
      "text/plain": [
       "  source_language                                               url  \\\n",
       "0           Hindi   https://www.bbc.com/hindi/articles/c4g8x33z6xlo   \n",
       "1          Arabic  https://www.bbc.com/arabic/articles/cn4gegejyj3o   \n",
       "2         Spanish   https://www.bbc.com/mundo/articles/cwyne84kmdxo   \n",
       "3          German               https://www.dw.com/de/themen/s-9077   \n",
       "\n",
       "  detected_language  \\\n",
       "0                hi   \n",
       "1                ar   \n",
       "2                es   \n",
       "3                de   \n",
       "\n",
       "                                                                                                                                                                                                                                                                                                                                                                                                                                                               summary  \n",
       "0                                                                                                                                                                                                                                                                                                                     for more information about the discussion about the Sejil missile has intensified.After the discussion about the discussion about the invasion.\"  \n",
       "1                                                                                                                         for the first patients of course of course of the United Kingdom.Photo chest, but if you see these drugs are within these are not considered to be less than to be more than a lighter that to be more dangerous to be more dangerous to treating to disrupted to disrupted to treating to treat for a long term recovery, a period of life.  \n",
       "2  you can also denounced the methods, which included armored, by the terror, by, by, by, by, by, by, by, by, by, by, by, by, by, by, by, by, by, by, terror, by, by, by, by, by, by, by, by, by by, terror in terror in terror in our streets to detainment, terror in our streets to protest against immigration measures ordered by the Donald Trump government.And remember that you can receive notifications in our app.Download the.Download the latest version  \n",
       "3                                                                                                                                                                                                                                           the attacks attack war brings suffering and destruction, affects global stability and requires international reactions, affects, affects, affects, affects, affects, affects, affects and requires international reactions  "
      ]
     },
     "execution_count": 16,
     "metadata": {},
     "output_type": "execute_result"
    }
   ],
   "source": [
    "pd.set_option('display.max_colwidth', None)\n",
    "df"
   ]
  },
  {
   "cell_type": "code",
   "execution_count": null,
   "id": "13ae3ed9-3bd4-4833-b63a-b05fd8f8568e",
   "metadata": {},
   "outputs": [],
   "source": []
  }
 ],
 "metadata": {
  "kernelspec": {
   "display_name": "Python 3 (ipykernel)",
   "language": "python",
   "name": "python3"
  },
  "language_info": {
   "codemirror_mode": {
    "name": "ipython",
    "version": 3
   },
   "file_extension": ".py",
   "mimetype": "text/x-python",
   "name": "python",
   "nbconvert_exporter": "python",
   "pygments_lexer": "ipython3",
   "version": "3.12.9"
  }
 },
 "nbformat": 4,
 "nbformat_minor": 5
}
